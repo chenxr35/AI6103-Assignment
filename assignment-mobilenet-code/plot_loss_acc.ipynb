{
 "cells": [
  {
   "cell_type": "code",
   "execution_count": 19,
   "metadata": {},
   "outputs": [
    {
     "name": "stdout",
     "output_type": "stream",
     "text": [
      "The autoreload extension is already loaded. To reload it, use:\n",
      "  %reload_ext autoreload\n"
     ]
    }
   ],
   "source": [
    "import numpy as np\n",
    "import matplotlib.pyplot as plt\n",
    "import os\n",
    "\n",
    "%load_ext autoreload\n",
    "%autoreload 2"
   ]
  },
  {
   "cell_type": "code",
   "execution_count": 84,
   "metadata": {},
   "outputs": [
    {
     "data": {
      "text/plain": [
       "['train_loss', 'val_loss', 'train_acc', 'val_acc']"
      ]
     },
     "execution_count": 84,
     "metadata": {},
     "output_type": "execute_result"
    }
   ],
   "source": [
    "fig_name =\"lr=0.01-wd=0-eps=300.png\"\n",
    "file_path=f\"plot_data/{fig_name}.npz\"\n",
    "save_data=np.load(file_path,allow_pickle=True)\n",
    "save_data.files"
   ]
  },
  {
   "cell_type": "code",
   "execution_count": 85,
   "metadata": {},
   "outputs": [],
   "source": [
    "train_loss,val_loss,train_acc,val_acc=save_data['train_loss'],save_data['val_loss'],save_data['train_acc'],save_data['val_acc']"
   ]
  },
  {
   "cell_type": "code",
   "execution_count": null,
   "metadata": {},
   "outputs": [],
   "source": [
    "def plot_loss_acc(train_loss, val_loss, train_acc, val_acc, fig_name):\n",
    "    x = np.arange(len(train_loss))\n",
    "    max_loss = max(max(train_loss), max(val_loss))\n",
    "\n",
    "    fig, ax1 = plt.subplots()\n",
    "    ax1.set_xlabel('epoch')\n",
    "    ax1.set_ylabel('loss')\n",
    "    ax1.set_ylim([0,max_loss+1])\n",
    "    lns1 = ax1.plot(x, train_loss, 'y--', label='train_loss')\n",
    "    lns2 = ax1.plot(x, val_loss, 'g--', label='val_loss')\n",
    "    # ax1.tick_params(axis='y', labelcolor='tab:blue')\n",
    "\n",
    "    ax2 = ax1.twinx()\n",
    "    ax2.set_ylabel('accuracy')\n",
    "    ax2.set_ylim([0,1.1])\n",
    "    lns3 = ax2.plot(x, train_acc, 'b--', label='train_acc', linewidth=1.5)\n",
    "    lns4 = ax2.plot(x, val_acc, 'r--', label='val_acc', linewidth=1.5)\n",
    "    # ax2.tick_params(axis='y', labelcolor='tab:red')\n",
    "\n",
    "    lns = lns1+lns2+lns3+lns4\n",
    "    labs = [l.get_label() for l in lns]\n",
    "    ax2.legend(lns, labs, loc=0)\n",
    "\n",
    "    # fig.tight_layout()\n",
    "    fig_title = ' '.join(fig_name[:-4].split('-'))\n",
    "    plt.title(fig_title)\n",
    "    plt.grid(True)\n",
    "\n",
    "    plt.savefig(os.path.join('./plot_data', fig_name))"
   ]
  },
  {
   "cell_type": "code",
   "execution_count": 86,
   "metadata": {},
   "outputs": [],
   "source": [
    "plot_loss_acc(train_loss, val_loss, train_acc, val_acc, fig_name)"
   ]
  }
 ],
 "metadata": {
  "kernelspec": {
   "display_name": "datascience",
   "language": "python",
   "name": "python3"
  },
  "language_info": {
   "codemirror_mode": {
    "name": "ipython",
    "version": 3
   },
   "file_extension": ".py",
   "mimetype": "text/x-python",
   "name": "python",
   "nbconvert_exporter": "python",
   "pygments_lexer": "ipython3",
   "version": "3.9.0"
  },
  "orig_nbformat": 4
 },
 "nbformat": 4,
 "nbformat_minor": 2
}
